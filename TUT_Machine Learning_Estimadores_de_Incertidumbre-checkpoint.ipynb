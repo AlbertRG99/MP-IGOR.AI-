{
 "cells": [
  {
   "cell_type": "code",
   "execution_count": 1,
   "metadata": {},
   "outputs": [],
   "source": [
    "# Un estimador de incertidumbre es una función que viene incluida en\n",
    "# algunos de los algoritmos de clasificación de SKLEARNING.\n",
    "# Esta función nos ayuda a ver que tan seguro se siente nuestro algoritmo\n",
    "# a la hora de clasificar un nuevo punto.\n",
    "#\n",
    "# Por ejemplo:\n",
    "# Si tenemos que hacer un algortmo que clasifique entre 0 y 1, un \n",
    "# estimador de incertidumbre nos va a decir que tan seguro se siente\n",
    "# nuestro programa para decir que el nuevo punto que va a predecir \n",
    "# pertenece al grupo 1 o al 0.\n",
    "# Esto nos puede ayudar cuando queremos que un algoritmo no pase por \n",
    "# una decisión con un cierto nivel de incertidumbre.\n",
    "# \n",
    "# Si tenemos un algoritmo que está 50% seguro de que pertenece al grupo\n",
    "# 0 podríamos preferir que no hiciera la predicción en ese punto ya que\n",
    "# el 50% es el equivalente a lanzar una moneda a ver que sale."
   ]
  },
  {
   "cell_type": "code",
   "execution_count": 4,
   "metadata": {},
   "outputs": [],
   "source": [
    "# Primero, importamos el DataSet de \"IRIS\".\n",
    "# Segundo, importamos la función train_test_split para dividir(training, testing).\n",
    "# Tercero, importamos el algoritmo a utilizar (SVM), Support-Vector Machine.\n",
    "#\n",
    "# SVM (Support-Vecrtor Machine) traza una lina recta o un hiperplano\n",
    "# para segmentar nuestros datos y poder clasificarlos."
   ]
  },
  {
   "cell_type": "code",
   "execution_count": 5,
   "metadata": {},
   "outputs": [],
   "source": [
    "from sklearn.datasets import load_iris\n",
    "from sklearn.model_selection import train_test_split\n",
    "from sklearn import svm"
   ]
  },
  {
   "cell_type": "code",
   "execution_count": 6,
   "metadata": {},
   "outputs": [],
   "source": [
    "# Pasamos nuestro DataSet a la variable \"iris\", como siempre:"
   ]
  },
  {
   "cell_type": "code",
   "execution_count": 7,
   "metadata": {},
   "outputs": [],
   "source": [
    "iris = load_iris()"
   ]
  },
  {
   "cell_type": "code",
   "execution_count": 8,
   "metadata": {},
   "outputs": [],
   "source": [
    "# Dividimos nuestros datos entre entrenamiento y prueba (Training y Testing):"
   ]
  },
  {
   "cell_type": "code",
   "execution_count": 9,
   "metadata": {},
   "outputs": [],
   "source": [
    "Xe,Xt,ye,yt = train_test_split(iris.data, iris.target)"
   ]
  },
  {
   "cell_type": "code",
   "execution_count": 10,
   "metadata": {},
   "outputs": [],
   "source": [
    "# A la variable \"algoritmo\" le asigno nuestro algoritmo SVM:"
   ]
  },
  {
   "cell_type": "code",
   "execution_count": 12,
   "metadata": {},
   "outputs": [],
   "source": [
    "algoritmo = svm.SVC(probability=True)"
   ]
  },
  {
   "cell_type": "code",
   "execution_count": 15,
   "metadata": {},
   "outputs": [],
   "source": [
    "# Lo entrenamos con nuestros datos de entrenamiento y lo comparamos:"
   ]
  },
  {
   "cell_type": "code",
   "execution_count": 22,
   "metadata": {},
   "outputs": [
    {
     "name": "stderr",
     "output_type": "stream",
     "text": [
      "C:\\Users\\JOSEA\\Anaconda3\\envs\\Ajedrez\\lib\\site-packages\\sklearn\\svm\\base.py:196: FutureWarning: The default value of gamma will change from 'auto' to 'scale' in version 0.22 to account better for unscaled features. Set gamma explicitly to 'auto' or 'scale' to avoid this warning.\n",
      "  \"avoid this warning.\", FutureWarning)\n"
     ]
    },
    {
     "data": {
      "text/plain": [
       "SVC(C=1.0, cache_size=200, class_weight=None, coef0=0.0,\n",
       "  decision_function_shape='ovr', degree=3, gamma='auto_deprecated',\n",
       "  kernel='rbf', max_iter=-1, probability=True, random_state=None,\n",
       "  shrinking=True, tol=0.001, verbose=False)"
      ]
     },
     "execution_count": 22,
     "metadata": {},
     "output_type": "execute_result"
    }
   ],
   "source": [
    "algoritmo.fit(Xe,ye)"
   ]
  },
  {
   "cell_type": "code",
   "execution_count": 23,
   "metadata": {},
   "outputs": [],
   "source": [
    "# Aquí tenemos dos funciones para estimar la incertidumbre,\n",
    "# \"decision_function\": Nos va a decir un número que va a decir que tan lejos está el punto del hiperplano que lo clasifica.\n",
    "# \"predict_proba\": Nos va a decir lo mismo pero en términos de probabilidad."
   ]
  },
  {
   "cell_type": "code",
   "execution_count": 27,
   "metadata": {
    "scrolled": false
   },
   "outputs": [
    {
     "data": {
      "text/plain": [
       "array([[ 2.40134191, -0.20902739,  0.80768548],\n",
       "       [ 2.38464271,  0.81497481, -0.19961752],\n",
       "       [-0.31847247,  2.49283432,  0.82563815],\n",
       "       [-0.21650776,  2.34681886,  0.8696889 ],\n",
       "       [-0.25527341,  2.32776618,  0.92750723],\n",
       "       [-0.3372782 ,  2.26238167,  1.07489652],\n",
       "       [ 2.3754827 , -0.2119257 ,  0.836443  ],\n",
       "       [-0.33085243,  1.13776127,  2.19309116],\n",
       "       [-0.29213949,  0.84185985,  2.45027964],\n",
       "       [-0.30908895,  0.83072939,  2.47835956]])"
      ]
     },
     "execution_count": 27,
     "metadata": {},
     "output_type": "execute_result"
    }
   ],
   "source": [
    "algoritmo.decision_function_shape = \"ovr\"\n",
    "algoritmo.decision_function(Xt)[:10]        \n",
    "\n",
    "#10 muestras únicamente.\n",
    "# Obtenemos tres grupos de clasificación donde el número más alto de cada columna es el mas alejado del hiperplano.\n",
    "# HIPER-PLANO"
   ]
  },
  {
   "cell_type": "code",
   "execution_count": 29,
   "metadata": {
    "scrolled": true
   },
   "outputs": [
    {
     "data": {
      "text/plain": [
       "array([[0.96177545, 0.01820111, 0.02002344],\n",
       "       [0.95537097, 0.02309307, 0.02153596],\n",
       "       [0.00940989, 0.98513613, 0.00545398],\n",
       "       [0.0243933 , 0.93443607, 0.04117063],\n",
       "       [0.01851229, 0.91184679, 0.06964092],\n",
       "       [0.0126846 , 0.785666  , 0.2016494 ],\n",
       "       [0.9509468 , 0.02166077, 0.02739243],\n",
       "       [0.01567643, 0.35189925, 0.63242433],\n",
       "       [0.01045609, 0.0085608 , 0.98098311],\n",
       "       [0.01071455, 0.00505703, 0.98422842]])"
      ]
     },
     "execution_count": 29,
     "metadata": {},
     "output_type": "execute_result"
    }
   ],
   "source": [
    "algoritmo.predict_proba(Xt)[:10]\n",
    "\n",
    "# Observa el primer número; nuestro algoritmo está al 96% seguro de que pertenece a ese grupo.\n",
    "# PROBABILIDAD"
   ]
  },
  {
   "cell_type": "code",
   "execution_count": 30,
   "metadata": {},
   "outputs": [],
   "source": [
    "# Ahora vamos a ejecutar nuestro algoritmo \"predict\" para ver como lo predice:"
   ]
  },
  {
   "cell_type": "code",
   "execution_count": 31,
   "metadata": {},
   "outputs": [
    {
     "data": {
      "text/plain": [
       "array([0, 0, 1, 1, 1, 1, 0, 2, 2, 2])"
      ]
     },
     "execution_count": 31,
     "metadata": {},
     "output_type": "execute_result"
    }
   ],
   "source": [
    "algoritmo.predict(Xt)[:10]\n",
    "\n",
    "# GRUPOS"
   ]
  },
  {
   "cell_type": "code",
   "execution_count": 32,
   "metadata": {},
   "outputs": [],
   "source": [
    "# Esto quiere decir que el primer elemento está clasificado en el el grupo 0, \n",
    "# el segundo elementoe clasificado en el grupo 0 también , el tercero en el grupo 1 .."
   ]
  },
  {
   "cell_type": "code",
   "execution_count": 33,
   "metadata": {},
   "outputs": [],
   "source": [
    "# Si tenemos un algoritmo que sabemos que está muy seguro en todas sus predicciones\n",
    "# seguramente esté muy sobreajustado y tendremos que ocuparnos de él antes de \n",
    "# seguir. Y si nuestro algoritmo no está muy sobreajustado siempre tomaremos el\n",
    "# que esté más seguro de sus decisiones (más cercano al 1)."
   ]
  },
  {
   "cell_type": "code",
   "execution_count": null,
   "metadata": {},
   "outputs": [],
   "source": []
  }
 ],
 "metadata": {
  "kernelspec": {
   "display_name": "Python 3",
   "language": "python",
   "name": "python3"
  },
  "language_info": {
   "codemirror_mode": {
    "name": "ipython",
    "version": 3
   },
   "file_extension": ".py",
   "mimetype": "text/x-python",
   "name": "python",
   "nbconvert_exporter": "python",
   "pygments_lexer": "ipython3",
   "version": "3.7.3"
  }
 },
 "nbformat": 4,
 "nbformat_minor": 2
}
