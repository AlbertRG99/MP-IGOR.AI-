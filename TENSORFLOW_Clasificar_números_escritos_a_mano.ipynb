{
 "cells": [
  {
   "cell_type": "code",
   "execution_count": 1,
   "metadata": {},
   "outputs": [],
   "source": [
    "# Vamos a ver el conocido problema de MNIST en redes neuronales.\n",
    "# Nosotros le vamos a dar a nuestro modelo un número escrito a mano y\n",
    "# nuestro algortimo se va a encargar de decirnos cual es.\n",
    "# Para ello vamos a hacer una red neuronal muy sencilla con tan solo dos\n",
    "# capas.\n",
    "# Capa de Entrada: Recibe todos los pixeles de la imagen (28x28 pxl).\n",
    "# Capa de Salida: Vector de 10 elementos que nos va a decir que número del 0-9 [0,1,2,3,4,5,6,7,8,9] corresponde a la imagen que pusimos."
   ]
  },
  {
   "cell_type": "code",
   "execution_count": 2,
   "metadata": {},
   "outputs": [],
   "source": [
    "# Importo la librería de TensorFlow.\n",
    "# Importo el DataSet de mnist anidado en Tensorflow.examples.tutorials."
   ]
  },
  {
   "cell_type": "code",
   "execution_count": 4,
   "metadata": {},
   "outputs": [],
   "source": [
    "import tensorflow as tf\n",
    "from tensorflow.examples.tutorials.mnist import input_data"
   ]
  },
  {
   "cell_type": "code",
   "execution_count": 5,
   "metadata": {},
   "outputs": [],
   "source": [
    "# A nuestra variable \"mnist\" le vamos a pasar nuestro DataSet.\n",
    "# Este DataSet contiene todas las imagenes y las etiquetas.\n",
    "# IMAGEN = <<representación de un 3>>\n",
    "# ETIQUETA = 3"
   ]
  },
  {
   "cell_type": "code",
   "execution_count": 6,
   "metadata": {
    "scrolled": true
   },
   "outputs": [
    {
     "name": "stdout",
     "output_type": "stream",
     "text": [
      "WARNING:tensorflow:From <ipython-input-6-8927a8b40a9c>:1: read_data_sets (from tensorflow.contrib.learn.python.learn.datasets.mnist) is deprecated and will be removed in a future version.\n",
      "Instructions for updating:\n",
      "Please use alternatives such as official/mnist/dataset.py from tensorflow/models.\n",
      "WARNING:tensorflow:From C:\\Users\\JOSEA\\Anaconda3\\envs\\Ajedrez\\lib\\site-packages\\tensorflow\\contrib\\learn\\python\\learn\\datasets\\mnist.py:260: maybe_download (from tensorflow.contrib.learn.python.learn.datasets.base) is deprecated and will be removed in a future version.\n",
      "Instructions for updating:\n",
      "Please write your own downloading logic.\n",
      "WARNING:tensorflow:From C:\\Users\\JOSEA\\Anaconda3\\envs\\Ajedrez\\lib\\site-packages\\tensorflow\\contrib\\learn\\python\\learn\\datasets\\mnist.py:262: extract_images (from tensorflow.contrib.learn.python.learn.datasets.mnist) is deprecated and will be removed in a future version.\n",
      "Instructions for updating:\n",
      "Please use tf.data to implement this functionality.\n",
      "Extracting MNIST_data/train-images-idx3-ubyte.gz\n",
      "WARNING:tensorflow:From C:\\Users\\JOSEA\\Anaconda3\\envs\\Ajedrez\\lib\\site-packages\\tensorflow\\contrib\\learn\\python\\learn\\datasets\\mnist.py:267: extract_labels (from tensorflow.contrib.learn.python.learn.datasets.mnist) is deprecated and will be removed in a future version.\n",
      "Instructions for updating:\n",
      "Please use tf.data to implement this functionality.\n",
      "Extracting MNIST_data/train-labels-idx1-ubyte.gz\n",
      "WARNING:tensorflow:From C:\\Users\\JOSEA\\Anaconda3\\envs\\Ajedrez\\lib\\site-packages\\tensorflow\\contrib\\learn\\python\\learn\\datasets\\mnist.py:110: dense_to_one_hot (from tensorflow.contrib.learn.python.learn.datasets.mnist) is deprecated and will be removed in a future version.\n",
      "Instructions for updating:\n",
      "Please use tf.one_hot on tensors.\n",
      "Extracting MNIST_data/t10k-images-idx3-ubyte.gz\n",
      "Extracting MNIST_data/t10k-labels-idx1-ubyte.gz\n",
      "WARNING:tensorflow:From C:\\Users\\JOSEA\\Anaconda3\\envs\\Ajedrez\\lib\\site-packages\\tensorflow\\contrib\\learn\\python\\learn\\datasets\\mnist.py:290: DataSet.__init__ (from tensorflow.contrib.learn.python.learn.datasets.mnist) is deprecated and will be removed in a future version.\n",
      "Instructions for updating:\n",
      "Please use alternatives such as official/mnist/dataset.py from tensorflow/models.\n"
     ]
    }
   ],
   "source": [
    "mnist = input_data.read_data_sets(\"MNIST_data/\", one_hot=True) #La imagen tiene dimensión 28x28."
   ]
  },
  {
   "cell_type": "code",
   "execution_count": 7,
   "metadata": {},
   "outputs": [],
   "source": [
    "# Ahora vamos a empezar a definir nuestra gráfica computacional (planos o elementos que vamos a usar en nuestra red)."
   ]
  },
  {
   "cell_type": "code",
   "execution_count": 8,
   "metadata": {},
   "outputs": [
    {
     "name": "stdout",
     "output_type": "stream",
     "text": [
      "WARNING:tensorflow:From C:\\Users\\JOSEA\\Anaconda3\\envs\\Ajedrez\\lib\\site-packages\\tensorflow\\python\\framework\\op_def_library.py:263: colocate_with (from tensorflow.python.framework.ops) is deprecated and will be removed in a future version.\n",
      "Instructions for updating:\n",
      "Colocations handled automatically by placer.\n"
     ]
    }
   ],
   "source": [
    "x = tf.placeholder(tf.float32, [None,784]) #Imagen del número descompuesta a un vetor.\n",
    "P = tf.Variable(tf.zeros([784,10])) #Matriz de pesos, 784 para recibir la imagen, 10 por las posibles salidas.\n",
    "b = tf.Variable(tf.zeros([10])) #Vector con BIAS.\n",
    "y = tf.matmul(x,P)+b # Operación que se hará en los nodos que reciben entradas.\n",
    "yR = tf.placeholder(tf.float32, [None,10]) #Matriz con las etiquetas REALES del Dataset."
   ]
  },
  {
   "cell_type": "code",
   "execution_count": 9,
   "metadata": {},
   "outputs": [],
   "source": [
    "# EXPLICACIÓN:\n",
    "# 1.- Va a hacer una matriz de 784. Como le damos a la red imagenes de 28x28 vamos a convertirla en un gran vector. 28x28=784 elementos. El valor NONE significa que la matriz es variable y va a tomar el número de imágenes que le ingresemos nosotros.\n",
    "# 2.- Pesos dentro de la matriz que inicio con puros ceros y que va a ser una matriz de 784(pixeles) filas x 10(elementos: 0,1,2,...) columnas.\n",
    "# 3.- Sesgo de la red. Lo inicializamos todo en ceros y va a ser un vector de 10 elementos.\n",
    "# 4.- y = Capa de salida. Como sabemos, la fórmula de una neurona es (dato_input X matriz_pesos)+BIAS.\n",
    "# 5.- yR = Va a ser una matriz NONE(Variable) y con 10 elementos que contendrá nuestras etiquetas del dataset(Para entrenar)."
   ]
  },
  {
   "cell_type": "code",
   "execution_count": 10,
   "metadata": {},
   "outputs": [],
   "source": [
    "# Ahora vamos a definir las funciones con las cuales\n",
    "# va a aprender nuestro algoritmo en cada una de las\n",
    "# iteraciones.\n",
    "# DEFINIR LA FUNCIÓN DE COSTO ENTROPÍA CRUZADA (CROSS ENTROPY)\n",
    "# PARA PODER MEDIR EL ERROR. LA SALIDA SERÁ CON SOFTMAX."
   ]
  },
  {
   "cell_type": "code",
   "execution_count": 11,
   "metadata": {},
   "outputs": [
    {
     "name": "stdout",
     "output_type": "stream",
     "text": [
      "WARNING:tensorflow:From <ipython-input-11-7b2dc1bcf8ed>:1: softmax_cross_entropy_with_logits (from tensorflow.python.ops.nn_ops) is deprecated and will be removed in a future version.\n",
      "Instructions for updating:\n",
      "\n",
      "Future major versions of TensorFlow will allow gradients to flow\n",
      "into the labels input on backprop by default.\n",
      "\n",
      "See `tf.nn.softmax_cross_entropy_with_logits_v2`.\n",
      "\n"
     ]
    }
   ],
   "source": [
    "softmax = tf.nn.softmax_cross_entropy_with_logits(labels=yR, logits=y)\n",
    "costo = tf.reduce_mean(softmax)\n",
    "optimizador = tf.train.GradientDescentOptimizer(0.5).minimize(costo)"
   ]
  },
  {
   "cell_type": "code",
   "execution_count": 12,
   "metadata": {},
   "outputs": [],
   "source": [
    "# Softmax nos va a dar el vector de 10 elementos para generar la predicción pero en forma de probabilidades. Nos va a decir la probabilidad de que cada imagen que metamos en input se corresponda con cada uno de los elementos del 0-9.\n",
    "# Por ejemplo: 7 --> [0.05, 0.03, 0.02, 0.1, 0.07, 0.03, 0.09, (0.61), 0.01, 0.05, 0.04]\n",
    "# Costo va a ser nuestro función de costo, la cual queremos reducir y que tienda a 0.\n",
    "# A optimizador le vamos a decir que lo que queremos que optimice sea el coste. SI nuestra gradiente descendiente es 2, nuestra gradiente descendiente se va a encargar de ajustar todos nuestros pesos y valores para reducirlo."
   ]
  },
  {
   "cell_type": "code",
   "execution_count": 13,
   "metadata": {},
   "outputs": [],
   "source": [
    "# Ahora vamos a añadir 3 elementos más a la gráfica computacional que van a \n",
    "# ayudarnos a generar las predicciones y generar el porcentaje de certeza que\n",
    "# está teniendo en cada una de nuestras iteraciones de entrenamiento."
   ]
  },
  {
   "cell_type": "code",
   "execution_count": 14,
   "metadata": {
    "scrolled": true
   },
   "outputs": [],
   "source": [
    "prediccion = tf.equal(tf.argmax(y, 1), tf.argmax(yR, 1)) #Nos da el array de booleanos para decirnos cuales están bien y cuales no.\n",
    "accuracy = tf.reduce_mean(tf.cast(prediccion, tf.float32)) #Nos da el porcentaje sobre el array de predicción.\n",
    "Produccion = tf.argmax(y, 1)\n",
    "sess = tf.InteractiveSession()\n",
    "init = tf.global_variables_initializer()"
   ]
  },
  {
   "cell_type": "code",
   "execution_count": 15,
   "metadata": {},
   "outputs": [],
   "source": [
    "# Explicación:\n",
    "# En \"produccion\", lo que está haciendo argmax es traer el número más alto de todas las probabilidades que nos da Softmax y lo vamos a compar con tf.argmax(yR,1).\n",
    "# es decir, de mi vector de salida reales contra el vector de mi predicción, quiero que comparemos los dos valores para saber si la predicción se hizo bien o mal.\n",
    "# Nos va a entregar un array de booleanos.\n",
    "# \"accuracy\" la vamos a emplear para medir la certeza. A cast le paso predicción y lo que nos va a decir es si tuvimos por ejemplo 10 aciertos y cinco fallos, tu porcentaje de certeza.\n",
    "# \"Produccion\" la vamos a usar para demostrar, una vez tenemos la red neuronal ya hecha, que únicamente pasándole una parámetro nos va a generar esa predicción."
   ]
  },
  {
   "cell_type": "code",
   "execution_count": 16,
   "metadata": {},
   "outputs": [],
   "source": [
    "# ENTRENAMIENTO DEL ALGORTIMO:"
   ]
  },
  {
   "cell_type": "code",
   "execution_count": 19,
   "metadata": {},
   "outputs": [],
   "source": [
    "# Función que usaremos para ver que tan bien va aprendiendo nuestro algoritmo o modelo.\n",
    "# Cada 50 épocas se va a estar imprimiento el costo (número que queremos reducir), la certeza y el número de época en la que estamos entrenando.\n",
    "def avance(epoca_i, sess, last_features, last_labels):\n",
    "    costoActual = sess.run(costo, feed_dict={x: last_features, yR: last_labels})\n",
    "    Certeza = sess.run(accuracy,feed_dict={x:mnist.validation.images,yR: mnist.validation.labels})\n",
    "    print('Epoca: {:<4} - Costo: {:<8.3} Certeza: {:<5.3}'.format(epoca_i,costoActual,Certeza))"
   ]
  },
  {
   "cell_type": "code",
   "execution_count": 20,
   "metadata": {},
   "outputs": [],
   "source": [
    "# La siguiente es la importante ya que aquí es donde empezamos\n",
    "# a entrenar a nuestro algoritmo."
   ]
  },
  {
   "cell_type": "code",
   "execution_count": 25,
   "metadata": {},
   "outputs": [
    {
     "name": "stdout",
     "output_type": "stream",
     "text": [
      "Epoca: 0    - Costo: 1.65     Certeza: 0.252\n",
      "Epoca: 50   - Costo: 0.444    Certeza: 0.873\n",
      "Epoca: 100  - Costo: 0.23     Certeza: 0.894\n",
      "Epoca: 150  - Costo: 0.35     Certeza: 0.904\n",
      "Epoca: 200  - Costo: 0.208    Certeza: 0.907\n",
      "Epoca: 250  - Costo: 0.353    Certeza: 0.909\n",
      "Epoca: 300  - Costo: 0.267    Certeza: 0.911\n",
      "Epoca: 350  - Costo: 0.373    Certeza: 0.914\n",
      "Epoca: 400  - Costo: 0.287    Certeza: 0.918\n",
      "Epoca: 450  - Costo: 0.215    Certeza: 0.919\n",
      "Epoca: 500  - Costo: 0.221    Certeza: 0.917\n",
      "Epoca: 550  - Costo: 0.332    Certeza: 0.911\n",
      "Epoca: 600  - Costo: 0.208    Certeza: 0.921\n",
      "Epoca: 650  - Costo: 0.207    Certeza: 0.921\n",
      "Epoca: 700  - Costo: 0.315    Certeza: 0.922\n",
      "Epoca: 750  - Costo: 0.276    Certeza: 0.918\n",
      "Epoca: 800  - Costo: 0.316    Certeza: 0.918\n",
      "Epoca: 850  - Costo: 0.323    Certeza: 0.919\n",
      "Epoca: 900  - Costo: 0.305    Certeza: 0.92 \n",
      "Epoca: 950  - Costo: 0.275    Certeza: 0.92 \n",
      "RESULTADO FINAL:  0.9146\n",
      "Resultado de una imagen [2]\n"
     ]
    }
   ],
   "source": [
    "with tf.Session() as sess:\n",
    "    sess.run(init)\n",
    "    for epoca_i in range(1000):\n",
    "        lotex, lotey = mnist.train.next_batch(100)\n",
    "        sess.run(optimizador, feed_dict={x: lotex, yR: lotey})\n",
    "        if (epoca_i%50 == 0):\n",
    "            avance(epoca_i, sess, lotex, lotey)\n",
    "    print('RESULTADO FINAL: ',sess.run(accuracy, feed_dict={x: mnist.test.images,yR: mnist.test.labels}))\n",
    "    print('Resultado de una imagen',sess.run(Produccion,feed_dict={x: mnist.test.images[1].reshape(1,784)}))"
   ]
  },
  {
   "cell_type": "code",
   "execution_count": 26,
   "metadata": {},
   "outputs": [],
   "source": [
    "# Explicación:\n",
    "#\n",
    "# Inicio las variables con nuestro iniciador.\n",
    "# Vamos a entrenar 1000 veces nuestros datos de entrenamiento.\n",
    "# En el ciclo vamos a tener el loteX y el loteY; para cada recorrido que \n",
    "# vamos a tener en nuestra red neuronal le vamos a pasar solo estos dos lotes.\n",
    "# No le vamos a pasar el DataSet entero porque requiere mucha potencia de cálculo.\n",
    "# Le vamos a ir pasando de 100 en 100 imagenes (porque no tengo los servidores de Google ;-) ).\n",
    "# Ahora vamos a decirle, a través de la Session() que queremos correr el optimizador y lo\n",
    "# vamos a alimentar (\"x: \" como entrada) con el loteX y a las etiquetas (\"yR: \") con el loteY.\n",
    "# Optimizador depende de costo. Costo depende de Softmax. Softmax depende de yR. yR depende de y. y depende de (x,P)+b. \n",
    "# Así va a ir iterando en cada una de nuestras épocas.\n",
    "# Le decimos que si nuestra época es el módulo de 50 llame a la función \"avance\".(Para que cada 50 épocas imprima el costo y certeza).\n",
    "# Por último imprimo nuestro resultado final, sobre nuestro DataSet de testing, que tan bien ha aprendido nuestra red neuronal.\n",
    "# También imprimo el resultado de esa imagen. Solo le mandamos una imágen."
   ]
  },
  {
   "cell_type": "code",
   "execution_count": 27,
   "metadata": {},
   "outputs": [],
   "source": [
    "# Epoca 0: De 100 imágenes que se le mandaron, solo se pudieron acertar el 46%. Bajo el costo (1.71).\n",
    "# Epoca 50: De 100 imágenes que se le mandaron, solo se puedieron acercar el 88%. Bajo el costo (0.487).\n",
    "# ...\n",
    "# Nos dice que de nuestro set de datos solo se pudo predecir bien el 91.5%.\n",
    "# Al hacer \".reshape\" le voy a decir que solo le voy a enviar un renglón (una imágen) con 784 columnas (28x28).\n",
    "# Vamos  a ver las etiquetas para comprobar que lo ha hecho bien:"
   ]
  },
  {
   "cell_type": "code",
   "execution_count": 28,
   "metadata": {},
   "outputs": [
    {
     "data": {
      "text/plain": [
       "array([0., 0., 1., 0., 0., 0., 0., 0., 0., 0.])"
      ]
     },
     "execution_count": 28,
     "metadata": {},
     "output_type": "execute_result"
    }
   ],
   "source": [
    "mnist.test.labels[1]"
   ]
  },
  {
   "cell_type": "code",
   "execution_count": 29,
   "metadata": {},
   "outputs": [],
   "source": [
    "# Correcto. Es el 2."
   ]
  },
  {
   "cell_type": "code",
   "execution_count": null,
   "metadata": {},
   "outputs": [],
   "source": []
  }
 ],
 "metadata": {
  "kernelspec": {
   "display_name": "Python 3",
   "language": "python",
   "name": "python3"
  },
  "language_info": {
   "codemirror_mode": {
    "name": "ipython",
    "version": 3
   },
   "file_extension": ".py",
   "mimetype": "text/x-python",
   "name": "python",
   "nbconvert_exporter": "python",
   "pygments_lexer": "ipython3",
   "version": "3.7.3"
  }
 },
 "nbformat": 4,
 "nbformat_minor": 2
}
