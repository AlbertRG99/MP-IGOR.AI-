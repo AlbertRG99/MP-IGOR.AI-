{
 "cells": [
  {
   "cell_type": "code",
   "execution_count": 2,
   "metadata": {},
   "outputs": [],
   "source": [
    "# TensorFlow es una librería que desarrolló GOOGLE y que nos ayuda a hacer \n",
    "# redes neuronales.\n",
    "# Tensor Flow = Flujo = Operaciones matemáticas de Tensores o Vectores = Matriz\n",
    "# Vamos a pasar un montón de matrices matemáticas por operaciones para entrenar\n",
    "# a nuestra red neuroal y generar posteriormete predicciones.\n",
    "# Vamos a ver los básicos:\n",
    "# Como generar una gráfica computacional (planos del código) y tipos de datos."
   ]
  },
  {
   "cell_type": "code",
   "execution_count": 3,
   "metadata": {},
   "outputs": [],
   "source": [
    "import tensorflow as tf"
   ]
  },
  {
   "cell_type": "code",
   "execution_count": 8,
   "metadata": {},
   "outputs": [],
   "source": [
    "# El primer tipo de variable que vamos a ver es la constante (no cambia).\n",
    "# \n",
    "#\"tf.constant()\"\n",
    "#\n",
    "# Va a ser un vector de 3 elementos del tipo float y con el nombre ´Constante1´\n",
    "# Ahora mismo solo estamos definiendo nuestra gráfica computacional.\n",
    "# Nuestra gráfica, todavía no tiene estos valores predefiinidos."
   ]
  },
  {
   "cell_type": "code",
   "execution_count": 9,
   "metadata": {},
   "outputs": [],
   "source": [
    "constante = tf.constant([2.0,3,4], dtype=tf.float32, name='Constante1')"
   ]
  },
  {
   "cell_type": "code",
   "execution_count": 10,
   "metadata": {},
   "outputs": [],
   "source": [
    "# Por eso si imprimimos \"constante\" no nos lo hace, solo nos dice que \n",
    "# es un tensor, forma 3 (3 elementos) y tipo de dato \"float.32\"."
   ]
  },
  {
   "cell_type": "code",
   "execution_count": 11,
   "metadata": {},
   "outputs": [],
   "source": [
    "# El segundo tipo de dato que vamos a ver es el place holder.\n",
    "#\n",
    "# \"tf.placeholder()\"\n",
    "#\n",
    "# Es como decirle a nuestro programa que haga una variable que la vamos\n",
    "# a tener vacía en un inicio pero que la vamos a estar llenando conforme\n",
    "# avanzamos en nuestro código.\n",
    "# Normalmente los vamos a usar para nuestros imputs de datos."
   ]
  },
  {
   "cell_type": "code",
   "execution_count": 12,
   "metadata": {},
   "outputs": [],
   "source": [
    "apartado = tf.placeholder(tf.float32, name='Apartado1')"
   ]
  },
  {
   "cell_type": "code",
   "execution_count": 13,
   "metadata": {},
   "outputs": [],
   "source": [
    "# Aquí tampoco nos da un valor definido como en el anterior."
   ]
  },
  {
   "cell_type": "code",
   "execution_count": 14,
   "metadata": {},
   "outputs": [],
   "source": [
    "# El siguiente tipo de dato es la variable.\n",
    "#\n",
    "# tf.Variable()\n",
    "#\n",
    "# Un tipo de dato que nos va a permitir cambiar su valor a lo largo \n",
    "# del código."
   ]
  },
  {
   "cell_type": "code",
   "execution_count": 15,
   "metadata": {},
   "outputs": [
    {
     "name": "stdout",
     "output_type": "stream",
     "text": [
      "WARNING:tensorflow:From C:\\Users\\JOSEA\\Anaconda3\\envs\\Ajedrez\\lib\\site-packages\\tensorflow\\python\\framework\\op_def_library.py:263: colocate_with (from tensorflow.python.framework.ops) is deprecated and will be removed in a future version.\n",
      "Instructions for updating:\n",
      "Colocations handled automatically by placer.\n"
     ]
    }
   ],
   "source": [
    "variable = tf.Variable(3, dtype=tf.float32, name='variable1')"
   ]
  },
  {
   "cell_type": "code",
   "execution_count": 17,
   "metadata": {},
   "outputs": [
    {
     "name": "stdout",
     "output_type": "stream",
     "text": [
      "<tf.Variable 'variable1:0' shape=() dtype=float32_ref>\n"
     ]
    }
   ],
   "source": [
    "print(variable)"
   ]
  },
  {
   "cell_type": "code",
   "execution_count": 18,
   "metadata": {},
   "outputs": [],
   "source": [
    "# Aquí tampoco nos da un valor definido como en el anterior."
   ]
  },
  {
   "cell_type": "code",
   "execution_count": 19,
   "metadata": {},
   "outputs": [],
   "source": [
    "# El siguiente tipo de variable es una matriz que va a rellenar con\n",
    "# únicamente ceros (0).\n",
    "#\n",
    "# \"tf.zeros()\"\n",
    "#\n",
    "# Esto nos va a servir para generar una matriz que posteriormente vamos\n",
    "# a poder alterar."
   ]
  },
  {
   "cell_type": "code",
   "execution_count": 20,
   "metadata": {},
   "outputs": [],
   "source": [
    "matriz = tf.zeros([3,4], tf.int32, name='matriz')"
   ]
  },
  {
   "cell_type": "code",
   "execution_count": 21,
   "metadata": {},
   "outputs": [],
   "source": [
    "# Esto indica que va a ser una matriz de 3x4, con el tipo de dato entero32,\n",
    "# cuyo nombre es \"matriz\"."
   ]
  },
  {
   "cell_type": "code",
   "execution_count": 22,
   "metadata": {},
   "outputs": [
    {
     "name": "stdout",
     "output_type": "stream",
     "text": [
      "Tensor(\"matriz:0\", shape=(3, 4), dtype=int32)\n"
     ]
    }
   ],
   "source": [
    "print(matriz)"
   ]
  },
  {
   "cell_type": "code",
   "execution_count": 23,
   "metadata": {},
   "outputs": [],
   "source": [
    "# Aquí tampoco nos da un valor definido como en el anterior."
   ]
  },
  {
   "cell_type": "code",
   "execution_count": 24,
   "metadata": {},
   "outputs": [],
   "source": [
    "# Con esto ya tenemos generada la gráfica computacional (planos para el código).\n",
    "# Vamos a correr la sesion inicializando las variables."
   ]
  },
  {
   "cell_type": "code",
   "execution_count": 25,
   "metadata": {},
   "outputs": [],
   "source": [
    "inicializar = tf.global_variables_initializer()"
   ]
  },
  {
   "cell_type": "code",
   "execution_count": 27,
   "metadata": {},
   "outputs": [],
   "source": [
    "# Esta variable se va a encargar de correr toda nuestra gráfica computacional."
   ]
  },
  {
   "cell_type": "code",
   "execution_count": 26,
   "metadata": {},
   "outputs": [],
   "source": [
    "sess = tf.Session()"
   ]
  },
  {
   "cell_type": "code",
   "execution_count": 28,
   "metadata": {},
   "outputs": [],
   "source": [
    "sess.run(inicializar)"
   ]
  },
  {
   "cell_type": "code",
   "execution_count": 29,
   "metadata": {},
   "outputs": [],
   "source": [
    "# Al hacer esto ya se ejecutó nuestra gráfica computacional y podemos\n",
    "# ejecutar todo lo anterior."
   ]
  },
  {
   "cell_type": "code",
   "execution_count": 30,
   "metadata": {},
   "outputs": [
    {
     "name": "stdout",
     "output_type": "stream",
     "text": [
      "[2. 3. 4.]\n"
     ]
    }
   ],
   "source": [
    "print(sess.run(constante))"
   ]
  },
  {
   "cell_type": "code",
   "execution_count": 31,
   "metadata": {},
   "outputs": [
    {
     "name": "stdout",
     "output_type": "stream",
     "text": [
      "[[0 0 0 0]\n",
      " [0 0 0 0]\n",
      " [0 0 0 0]]\n"
     ]
    }
   ],
   "source": [
    "print(sess.run(matriz))"
   ]
  },
  {
   "cell_type": "code",
   "execution_count": 32,
   "metadata": {},
   "outputs": [
    {
     "name": "stdout",
     "output_type": "stream",
     "text": [
      "3.0\n"
     ]
    }
   ],
   "source": [
    "print(sess.run(variable))"
   ]
  },
  {
   "cell_type": "code",
   "execution_count": 34,
   "metadata": {},
   "outputs": [],
   "source": [
    "# Hacemos una función:\n",
    "\n",
    "# multiplicacion = float32 * placeholder "
   ]
  },
  {
   "cell_type": "code",
   "execution_count": 38,
   "metadata": {},
   "outputs": [],
   "source": [
    "multiplicacion = apartado*constante"
   ]
  },
  {
   "cell_type": "code",
   "execution_count": 40,
   "metadata": {},
   "outputs": [],
   "source": [
    "# A ese placeholder que definimos arriba, a la hora de correr la multiplicación\n",
    "# a apartado le voy a asignar un 10, 15, 5.\n",
    "#\n",
    "# Constante = 2, 3, 4.\n",
    "# apartado = 15, 10, 5"
   ]
  },
  {
   "cell_type": "code",
   "execution_count": 41,
   "metadata": {},
   "outputs": [
    {
     "name": "stdout",
     "output_type": "stream",
     "text": [
      "[[30. 30. 20.]]\n"
     ]
    }
   ],
   "source": [
    "print(sess.run(multiplicacion,feed_dict={apartado:[[15,10,5]]}))"
   ]
  },
  {
   "cell_type": "code",
   "execution_count": 42,
   "metadata": {},
   "outputs": [],
   "source": [
    "# Ahora vamos a ver como generar multiplicaciones entre matrices y \n",
    "# productos punto que es MUY IMPORTANTE y lo vamos a estar usando mucho\n",
    "# en siguientes apartados."
   ]
  },
  {
   "cell_type": "code",
   "execution_count": 43,
   "metadata": {},
   "outputs": [
    {
     "name": "stdout",
     "output_type": "stream",
     "text": [
      "[[18. 25. 12.]\n",
      " [30. 46. 16.]]\n"
     ]
    }
   ],
   "source": [
    "# Multiplicación de matrices necesita llevar la forma (M,N)x(N,M)=M,M\n",
    "a = tf.placeholder(tf.float32, shape=(2,2))\n",
    "b = tf.placeholder(tf.float32, shape=(2,3))\n",
    "mult = tf.matmul(a,b)\n",
    "init = tf.global_variables_initializer()\n",
    "sess = tf.Session()\n",
    "sess.run(init)\n",
    "print(sess.run(mult,feed_dict={a:[[1,2],[2,2]], b:[[12,21,4],[3,2,4]]}))"
   ]
  },
  {
   "cell_type": "code",
   "execution_count": 44,
   "metadata": {},
   "outputs": [],
   "source": [
    "# Explicación:\n",
    "# Vamos a tener una variable FLOAT \"a\" del tipo PLACEHOLDER y con forma (2,2)\n",
    "# Vamos a tener una variable FLOAT \"b\" del tipo PLACEHOLDER y con forma (2,3)\n",
    "# Vamos a decirle que a la función multiplicar (a,b) la llame \"mult\".\n",
    "# Inicializamos nuestras variables.\n",
    "# Iniciamos sesión para correr nuestra gráfica computacional.\n",
    "# Las tres primeras líneas son para definir nuestra gráfica computacional y las\n",
    "# tres últimas para corrarla.\n",
    "# Imprimo la ejecución de la función \"mult\" y como estos eran del tipo PLACEHOLDER\n",
    "# y no teníamos valores pues los definimos o alimentamos dentro del print."
   ]
  },
  {
   "cell_type": "code",
   "execution_count": 45,
   "metadata": {},
   "outputs": [],
   "source": [
    "# Otra operación que también vamos a usar mucho es el producto entre dos\n",
    "# tensores o vectores."
   ]
  },
  {
   "cell_type": "code",
   "execution_count": 47,
   "metadata": {},
   "outputs": [
    {
     "name": "stdout",
     "output_type": "stream",
     "text": [
      "10.0\n"
     ]
    }
   ],
   "source": [
    "c = tf.placeholder(tf.float32, shape=(3))\n",
    "d = tf.placeholder(tf.float32, shape=(3))\n",
    "punto = tf.tensordot(c,d,1)\n",
    "init = tf.global_variables_initializer()\n",
    "sess = tf.Session()\n",
    "sess.run(init)\n",
    "print(sess.run(punto,feed_dict={c:[1,2,3], d:[3,2,1]}))"
   ]
  },
  {
   "cell_type": "code",
   "execution_count": 46,
   "metadata": {},
   "outputs": [],
   "source": [
    "# Explicación:\n",
    "# Vamos a tener una variable FLOAT \"c\" del tipo PLACEHOLDER y con forma (3), tres elementos.\n",
    "# Vamos a tener una variable FLOAT \"d\" del tipo PLACEHOLDER y con forma (3), tres elementos.\n",
    "# Establecemos nuestra operación \"punto\" basada en tensordot (producto entre dos vectores (c,d)).\n",
    "# Inicializo las variables y lo corro.\n",
    "# Imprimo la multiplicación y dentro de estas defino el valor de las variables (c,d)"
   ]
  }
 ],
 "metadata": {
  "kernelspec": {
   "display_name": "Python 3",
   "language": "python",
   "name": "python3"
  },
  "language_info": {
   "codemirror_mode": {
    "name": "ipython",
    "version": 3
   },
   "file_extension": ".py",
   "mimetype": "text/x-python",
   "name": "python",
   "nbconvert_exporter": "python",
   "pygments_lexer": "ipython3",
   "version": "3.7.3"
  }
 },
 "nbformat": 4,
 "nbformat_minor": 2
}
