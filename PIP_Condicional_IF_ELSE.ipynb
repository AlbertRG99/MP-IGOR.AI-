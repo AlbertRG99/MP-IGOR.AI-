{
 "cells": [
  {
   "cell_type": "code",
   "execution_count": 1,
   "metadata": {},
   "outputs": [],
   "source": [
    "# Estructura del IF:\n",
    "\n",
    "# if(condición 1):\n",
    "#    instrucción 1\n",
    "# elif(condición 2):\n",
    "#    instrucción 2\n",
    "# else:\n",
    "#    instrucción 3"
   ]
  },
  {
   "cell_type": "code",
   "execution_count": 4,
   "metadata": {},
   "outputs": [
    {
     "name": "stdout",
     "output_type": "stream",
     "text": [
      "a es menor que b\n"
     ]
    }
   ],
   "source": [
    "a=1\n",
    "b=5\n",
    "c=2\n",
    "\n",
    "if (a<b):\n",
    "    print('a es menor que b')\n",
    "elif (a == b):\n",
    "    print('a es igual que b')\n",
    "else:\n",
    "    print('a es mayor que b')"
   ]
  },
  {
   "cell_type": "code",
   "execution_count": 5,
   "metadata": {},
   "outputs": [
    {
     "name": "stdout",
     "output_type": "stream",
     "text": [
      "Ejemplo\n"
     ]
    }
   ],
   "source": [
    "if (a<b and a==c):\n",
    "    print('A es menor que B e igual que C')\n",
    "elif (a==b):\n",
    "    print('A es igual que B')\n",
    "else:\n",
    "    print('Ejemplo')"
   ]
  },
  {
   "cell_type": "code",
   "execution_count": 6,
   "metadata": {},
   "outputs": [
    {
     "name": "stdout",
     "output_type": "stream",
     "text": [
      "A es menor que B e igual que C\n"
     ]
    }
   ],
   "source": [
    "if (a<b or a==c):\n",
    "    print('A es menor que B e igual que C')\n",
    "elif (a==b):\n",
    "    print('A es igual que B')\n",
    "else:\n",
    "    print('Ejemplo')"
   ]
  },
  {
   "cell_type": "code",
   "execution_count": null,
   "metadata": {},
   "outputs": [],
   "source": []
  }
 ],
 "metadata": {
  "kernelspec": {
   "display_name": "Python 3",
   "language": "python",
   "name": "python3"
  },
  "language_info": {
   "codemirror_mode": {
    "name": "ipython",
    "version": 3
   },
   "file_extension": ".py",
   "mimetype": "text/x-python",
   "name": "python",
   "nbconvert_exporter": "python",
   "pygments_lexer": "ipython3",
   "version": "3.7.3"
  }
 },
 "nbformat": 4,
 "nbformat_minor": 2
}
