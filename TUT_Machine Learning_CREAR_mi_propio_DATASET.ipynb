{
 "cells": [
  {
   "cell_type": "code",
   "execution_count": 1,
   "metadata": {},
   "outputs": [],
   "source": [
    "# Cómo puedo cargar mi propio DataSet para cargar mi algoritmo?: \n",
    "# En los anteriores tutoriales hemos usado los propios DataSets que vienen en\n",
    "# SKLEARN.\n",
    "# Lo que vamos a hacer es tener un archivo EXCEL con nuestros propios datos y lo\n",
    "# vamos a convertir a un archivo \".CSV\" (Comma Separate Values).\n",
    "# Posteriormente pasaremos ese archivo a Python para usarlo con nuestros algoritmos correspondientes."
   ]
  },
  {
   "cell_type": "code",
   "execution_count": null,
   "metadata": {},
   "outputs": [],
   "source": [
    "# VER EN CARPETA \"APUNTES_REDES_NEURONALES\""
   ]
  }
 ],
 "metadata": {
  "kernelspec": {
   "display_name": "Python 3",
   "language": "python",
   "name": "python3"
  },
  "language_info": {
   "codemirror_mode": {
    "name": "ipython",
    "version": 3
   },
   "file_extension": ".py",
   "mimetype": "text/x-python",
   "name": "python",
   "nbconvert_exporter": "python",
   "pygments_lexer": "ipython3",
   "version": "3.7.3"
  }
 },
 "nbformat": 4,
 "nbformat_minor": 2
}
